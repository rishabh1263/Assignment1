{
 "cells": [
  {
   "cell_type": "markdown",
   "id": "583e6f28-d79f-4cd2-a235-d139389e4de6",
   "metadata": {},
   "source": [
    "Q1 = Who Developed Python Programming Language ?\n",
    "Ans : Guido van Rossum"
   ]
  },
  {
   "cell_type": "markdown",
   "id": "07ceff4f-0eb4-4ce9-8a69-4ad1b6d133cb",
   "metadata": {},
   "source": [
    "Q2 = Which type of Programming Does Python Support?\n",
    "Ans : Object-oriented programming and structured programming "
   ]
  },
  {
   "cell_type": "markdown",
   "id": "cacea152-f583-453d-815c-4ce63c903067",
   "metadata": {},
   "source": [
    "Q3 = Is Python Case sensitive will dealing with identifiers ?\n",
    "Ans : Yes"
   ]
  },
  {
   "cell_type": "markdown",
   "id": "68a0f550-f4ac-4f29-8956-37bb5d625915",
   "metadata": {},
   "source": [
    "Q4 = what is the correct extension of the python file?\n",
    "Ans : .py extension"
   ]
  },
  {
   "cell_type": "markdown",
   "id": "482f6a8c-8c3a-4b08-b51a-714a562a6f66",
   "metadata": {},
   "source": [
    "Q5 = is python code compiled or interpreted?\n",
    "Ans : interpreted language"
   ]
  },
  {
   "cell_type": "markdown",
   "id": "bbe434dd-7d13-4067-a414-eca02f0f2206",
   "metadata": {},
   "source": [
    "Q6 = name a fwe blocks of code used to define in python language?\n",
    "Ans : a module , a function body , class definition"
   ]
  },
  {
   "cell_type": "markdown",
   "id": "e16459f8-711c-473c-8b7f-f60b6988d080",
   "metadata": {},
   "source": [
    "Q7 = State a char used to give single line comments in python?\n",
    "Ans : #"
   ]
  },
  {
   "cell_type": "markdown",
   "id": "b38a8d28-1962-4d3f-82db-4d1285c77223",
   "metadata": {},
   "source": [
    "Q8 = Mention functions which can help us to find the version of pyhton that we are currently working on?\n",
    "Ans : function sys.version"
   ]
  },
  {
   "cell_type": "markdown",
   "id": "94a2a00a-017b-4730-9341-97205195ae59",
   "metadata": {},
   "source": [
    "Q9 = python supports the creation of anaonymous functions at runtime , using a construct called ?\n",
    "Ans : lambda"
   ]
  },
  {
   "cell_type": "markdown",
   "id": "06302d43-6e6e-4b3c-be65-ccb2e09b1a3c",
   "metadata": {},
   "source": [
    "Q10 = what does pip stand for python?\n",
    "Ans : preferred installer program"
   ]
  },
  {
   "cell_type": "markdown",
   "id": "63a7fb10-c61a-484f-956a-c83101d4c6a4",
   "metadata": {},
   "source": [
    "Q11 = Mention a few in build functions in python?\n",
    "Ans : print ,for, else, for loop , while loop,append(),class\n"
   ]
  },
  {
   "cell_type": "markdown",
   "id": "cd7397c9-d82e-4f6d-892e-d89d7f094b26",
   "metadata": {},
   "source": [
    "Q12 = what is the maximum lenght of an identifier in python>\n",
    "Ans :79 character"
   ]
  },
  {
   "cell_type": "markdown",
   "id": "4c0c8778-ab4b-4205-9496-ed5e3fb3d680",
   "metadata": {},
   "source": [
    "Q13 = what are the benefits of using python?\n",
    "Ans : interpreted, and high-level language that mainly offers code readability."
   ]
  },
  {
   "cell_type": "markdown",
   "id": "76f7dd57-9794-4e21-a186-591bcb70fb67",
   "metadata": {},
   "source": [
    "Q14 = how is memory managed in python ?\n",
    "Ans :  a private heap containing all Python objects and data structures."
   ]
  },
  {
   "cell_type": "markdown",
   "id": "0e0a57c1-e121-4cd9-ab6e-e53713620390",
   "metadata": {},
   "source": [
    "Q15 =how to install python in windows and set path variables?\n",
    "Ans : The complete path of python.exe can be added by:\n",
    "Right-clicking This PC and going to Properties.\n",
    "Clicking on the Advanced system settings in the menu on the left.\n",
    "Clicking on the Environment Variables button o​n the bottom right.\n",
    "In the System variables section, selecting the Path variable and clicking on Edit."
   ]
  },
  {
   "cell_type": "markdown",
   "id": "776f165c-343f-46dd-b2d0-57b899728601",
   "metadata": {},
   "source": [
    "Q16 = is indentation required in python ?\n",
    "Ans = Yes"
   ]
  }
 ],
 "metadata": {
  "kernelspec": {
   "display_name": "Python 3 (ipykernel)",
   "language": "python",
   "name": "python3"
  },
  "language_info": {
   "codemirror_mode": {
    "name": "ipython",
    "version": 3
   },
   "file_extension": ".py",
   "mimetype": "text/x-python",
   "name": "python",
   "nbconvert_exporter": "python",
   "pygments_lexer": "ipython3",
   "version": "3.10.8"
  }
 },
 "nbformat": 4,
 "nbformat_minor": 5
}
